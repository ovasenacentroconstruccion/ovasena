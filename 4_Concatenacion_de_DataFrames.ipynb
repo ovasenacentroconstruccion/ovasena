{
  "nbformat": 4,
  "nbformat_minor": 0,
  "metadata": {
    "colab": {
      "provenance": [],
      "include_colab_link": true
    },
    "kernelspec": {
      "name": "python3",
      "display_name": "Python 3"
    }
  },
  "cells": [
    {
      "cell_type": "markdown",
      "metadata": {
        "id": "view-in-github",
        "colab_type": "text"
      },
      "source": [
        "<a href=\"https://colab.research.google.com/github/edelgado-1975/OVA_ARDUINO_SENA_CSF/blob/main/4_Concatenacion_de_DataFrames.ipynb\" target=\"_parent\"><img src=\"https://colab.research.google.com/assets/colab-badge.svg\" alt=\"Open In Colab\"/></a>"
      ]
    },
    {
      "cell_type": "markdown",
      "metadata": {
        "id": "n5DWAmONse35"
      },
      "source": [
        "# Concatenación de DataFrames: concat y append\n",
        "\n",
        "En este notebook se estudia como unir dos dataframes en uno solo. Esto es muy usual cuando se hace análisis de datos y a estos solo los podemos obtener en pequeños paquetes. Utilizando la función **for y append** podemos unirlos en unos solo rapidamente."
      ]
    },
    {
      "cell_type": "code",
      "metadata": {
        "id": "_WVewf0NsXNF"
      },
      "source": [
        "import pandas as pd\n",
        "import numpy as np"
      ],
      "execution_count": 1,
      "outputs": []
    },
    {
      "cell_type": "markdown",
      "metadata": {
        "id": "g4D2hPSKv-6o"
      },
      "source": [
        "Lo primero que vamos a hacer es configurar pandas y numpy para que veamos pocos numeros decimales."
      ]
    },
    {
      "cell_type": "code",
      "metadata": {
        "id": "J0Od_Tdev1ga"
      },
      "source": [
        "pd.options.display.float_format = '{:.2f}'.format # para pandas"
      ],
      "execution_count": 2,
      "outputs": []
    },
    {
      "cell_type": "code",
      "metadata": {
        "id": "vOOnhM19wFhs"
      },
      "source": [
        "np.set_printoptions(precision=2) # para numpy"
      ],
      "execution_count": 3,
      "outputs": []
    },
    {
      "cell_type": "markdown",
      "metadata": {
        "id": "TvpxLsmPyQUx"
      },
      "source": [
        "## Concatenacion de vectores y matrices con numpy"
      ]
    },
    {
      "cell_type": "markdown",
      "metadata": {
        "id": "an20ltWowSHz"
      },
      "source": [
        "Lo primero que vamos a hacer es generar numeros aleatorios con numpy"
      ]
    },
    {
      "cell_type": "code",
      "metadata": {
        "id": "-MJHBCpxwPLs"
      },
      "source": [
        "np.random.rand()  # Numero aleatorio entre 0 y 1"
      ],
      "execution_count": null,
      "outputs": []
    },
    {
      "cell_type": "code",
      "metadata": {
        "id": "qKN0VhH_waum"
      },
      "source": [
        "np.random.randn()  # Numero aleatorio entre -1 y 1"
      ],
      "execution_count": null,
      "outputs": []
    },
    {
      "cell_type": "markdown",
      "metadata": {
        "id": "J68hvifOwoZl"
      },
      "source": [
        "Sabiendo lo anterior vamos a generar una matriz de 2 x 5"
      ]
    },
    {
      "cell_type": "code",
      "metadata": {
        "id": "kfr2vk0EwjAI"
      },
      "source": [
        "x1 = np.random.rand(2,5) * 100\n",
        "x1"
      ],
      "execution_count": null,
      "outputs": []
    },
    {
      "cell_type": "markdown",
      "metadata": {
        "id": "kdpqYcNtxAr2"
      },
      "source": [
        "Ahora una matriz de igual dimensión que la anterior pero con numeros negativos."
      ]
    },
    {
      "cell_type": "code",
      "metadata": {
        "id": "O6wRpN4bwwGv"
      },
      "source": [
        "x2 = np.random.rand(2,5) * -1\n",
        "x2"
      ],
      "execution_count": null,
      "outputs": []
    },
    {
      "cell_type": "markdown",
      "metadata": {
        "id": "0CeD4pCQxOIq"
      },
      "source": [
        "Numpy puede unir las dos matrices utilizando la función **.concatenate()**"
      ]
    },
    {
      "cell_type": "code",
      "metadata": {
        "id": "H46pd3GgxL6D"
      },
      "source": [
        "np.concatenate([x1,x2])"
      ],
      "execution_count": null,
      "outputs": []
    },
    {
      "cell_type": "markdown",
      "metadata": {
        "id": "-XawruKixkCo"
      },
      "source": [
        "Hemos concatenado a lo largo de las filas. Veamos las dimensiones de la matriz generada."
      ]
    },
    {
      "cell_type": "code",
      "metadata": {
        "id": "jUU6-8bsxbQS"
      },
      "source": [
        "np.concatenate([x1,x2]).shape"
      ],
      "execution_count": null,
      "outputs": []
    },
    {
      "cell_type": "markdown",
      "metadata": {
        "id": "tu30TqjIx13q"
      },
      "source": [
        "Tambien podemos concatenar a lo largo de las columnas, indicandoles a la función. Luego veamos las dimensiones de la matriz generada.\n"
      ]
    },
    {
      "cell_type": "code",
      "metadata": {
        "id": "qPOrrMx8xqOu"
      },
      "source": [
        "np.concatenate([x1,x2], axis = 1)"
      ],
      "execution_count": null,
      "outputs": []
    },
    {
      "cell_type": "code",
      "metadata": {
        "id": "0K-sYLu3yHgg"
      },
      "source": [
        "np.concatenate([x1,x2], axis = 1).shape"
      ],
      "execution_count": null,
      "outputs": []
    },
    {
      "cell_type": "markdown",
      "metadata": {
        "id": "YEI_3zKVydtf"
      },
      "source": [
        "## Concatenacion de filas y columnas (series) con pandas"
      ]
    },
    {
      "cell_type": "markdown",
      "metadata": {
        "id": "miUNM3ufynwF"
      },
      "source": [
        "Primero transformemos los vectores antes generados en **numpy** en series para poder manipularlos con **pandas**."
      ]
    },
    {
      "cell_type": "code",
      "metadata": {
        "id": "hBcOKrN8ykZa"
      },
      "source": [
        "s1 = pd.Series(x1[0], index=['a','b','c','d','e'])\n",
        "s1"
      ],
      "execution_count": null,
      "outputs": []
    },
    {
      "cell_type": "code",
      "metadata": {
        "id": "mYfD6-ouy5YO"
      },
      "source": [
        "s2 = pd.Series(x2[0], index=['c','d','e','f','g'])\n",
        "s2"
      ],
      "execution_count": null,
      "outputs": []
    },
    {
      "cell_type": "markdown",
      "metadata": {
        "id": "l_k0iboBzSE6"
      },
      "source": [
        "Para hacer una concatenación en pandas utilizamos la función **.concat()**."
      ]
    },
    {
      "cell_type": "code",
      "metadata": {
        "id": "Gb6qqwdtzQCW"
      },
      "source": [
        "pd.concat([s1,s2])"
      ],
      "execution_count": null,
      "outputs": []
    },
    {
      "cell_type": "markdown",
      "metadata": {
        "id": "Wqxi_xU0zeyG"
      },
      "source": [
        "Lo que sucede es que concatenan a lo largo de las filas. Podemos alterar este comportamiento y que se concatenen respetando indices y a lo largo de las columnas de la siguiente manera."
      ]
    },
    {
      "cell_type": "code",
      "metadata": {
        "id": "Lw2lifv9zduB"
      },
      "source": [
        "pd.concat([s1,s2], axis=1)"
      ],
      "execution_count": null,
      "outputs": []
    },
    {
      "cell_type": "markdown",
      "metadata": {
        "id": "rGibv6AIC40t"
      },
      "source": [
        "Se cocatenan respetando los indices puesto"
      ]
    },
    {
      "cell_type": "markdown",
      "metadata": {
        "id": "TRuxsODIDVno"
      },
      "source": [
        "Ahora si queremos concatenar sin respetar el indice lo que podemos hacer es resetear los indices."
      ]
    },
    {
      "cell_type": "code",
      "metadata": {
        "id": "79dIRckqzr0o"
      },
      "source": [
        "s1.reset_index()"
      ],
      "execution_count": null,
      "outputs": []
    },
    {
      "cell_type": "markdown",
      "metadata": {
        "id": "rXbduUpIDhid"
      },
      "source": [
        "Y podemos obtener una nueva serie con nuevos indices y eliminamos los indices..."
      ]
    },
    {
      "cell_type": "code",
      "metadata": {
        "id": "eSjM3xp-Dd05"
      },
      "source": [
        "s1.reset_index(drop=True)"
      ],
      "execution_count": null,
      "outputs": []
    },
    {
      "cell_type": "markdown",
      "metadata": {
        "id": "7YA4DMe4DtFo"
      },
      "source": [
        "Vamos a crear una nueva concatenación eliminandos los indices."
      ]
    },
    {
      "cell_type": "code",
      "metadata": {
        "id": "05uIYvuEDotA"
      },
      "source": [
        "pd.concat([s1.reset_index(drop=True),s2.reset_index(drop=True)], axis=1)"
      ],
      "execution_count": null,
      "outputs": []
    },
    {
      "cell_type": "markdown",
      "metadata": {
        "id": "F_pnELhRD4KX"
      },
      "source": [
        "Tengo ahora una concatenación pero ahora ya no respeta el índice, en realidad se respeta el nuevo indice creado (reset_index)"
      ]
    },
    {
      "cell_type": "markdown",
      "metadata": {
        "id": "CWd5oVvEEIyo"
      },
      "source": [
        "## Concatenacion de dataframe con pandas"
      ]
    },
    {
      "cell_type": "markdown",
      "metadata": {
        "id": "a6ambZNlEeuK"
      },
      "source": [
        "Creemos un DataFrame simple con valores aleatorio."
      ]
    },
    {
      "cell_type": "code",
      "metadata": {
        "id": "6iaxV-T4ES7s"
      },
      "source": [
        "df1 = pd.DataFrame(np.random.rand(3,2)*10, columns=['a','b'])\n",
        "df1"
      ],
      "execution_count": null,
      "outputs": []
    },
    {
      "cell_type": "markdown",
      "metadata": {
        "id": "AQJs1Im6FK5Y"
      },
      "source": [
        "Podemos un segundo dataframe con numeros negativos y cambios de indice."
      ]
    },
    {
      "cell_type": "code",
      "metadata": {
        "id": "WYLz27jWEclr"
      },
      "source": [
        "df2 = pd.DataFrame(np.random.rand(3,2)*-1, columns=['a','b'], index=[2,3,4])\n",
        "df2"
      ],
      "execution_count": null,
      "outputs": []
    },
    {
      "cell_type": "markdown",
      "metadata": {
        "id": "QA3KYT04FcnW"
      },
      "source": [
        "Concatenemos los dataframe anteriores, estos lo haran a lo largo de las filas de forma predenterminada."
      ]
    },
    {
      "cell_type": "code",
      "metadata": {
        "id": "pSiy5lwIFa0u"
      },
      "source": [
        "pd.concat([df1,df2])"
      ],
      "execution_count": null,
      "outputs": []
    },
    {
      "cell_type": "markdown",
      "metadata": {
        "id": "jIFED4kgFpO_"
      },
      "source": [
        "Si lo queremos hacer a lo largo de las columnas debemos hacerlo como sigue:"
      ]
    },
    {
      "cell_type": "code",
      "metadata": {
        "id": "cm4GrMMZFhs-"
      },
      "source": [
        "pd.concat([df1,df2], axis=1)"
      ],
      "execution_count": null,
      "outputs": []
    },
    {
      "cell_type": "markdown",
      "metadata": {
        "id": "pVM1adniFxxi"
      },
      "source": [
        "Lo que paso en el primer caso es que se repetian indices de filas y se compatian indices de columnas.\n",
        "\n",
        "En el segundo caso pasa lo contrario, se comparten los indices de las filas y se repiten los índices de las columnas."
      ]
    },
    {
      "cell_type": "markdown",
      "metadata": {
        "id": "acqtQ_wJGJPK"
      },
      "source": [
        "Si hacemos concatenacion de dos dataframe y queremos hacer enfasis de solo los elementos que se comparten, lo hacemos de la siguiente manera."
      ]
    },
    {
      "cell_type": "code",
      "metadata": {
        "id": "J8LJmzFSFvHh",
        "outputId": "72d1ff1a-bde9-4635-8016-ae2020934ec1",
        "colab": {
          "base_uri": "https://localhost:8080/",
          "height": 81
        }
      },
      "source": [
        "pd.concat([df1,df2], axis=1, join='inner')"
      ],
      "execution_count": 44,
      "outputs": [
        {
          "output_type": "execute_result",
          "data": {
            "text/plain": [
              "     a    b     a     b\n",
              "2 8.89 6.07 -0.04 -0.03"
            ],
            "text/html": [
              "\n",
              "  <div id=\"df-28f73bcb-b94e-45dc-83a2-9a25fb6c816e\" class=\"colab-df-container\">\n",
              "    <div>\n",
              "<style scoped>\n",
              "    .dataframe tbody tr th:only-of-type {\n",
              "        vertical-align: middle;\n",
              "    }\n",
              "\n",
              "    .dataframe tbody tr th {\n",
              "        vertical-align: top;\n",
              "    }\n",
              "\n",
              "    .dataframe thead th {\n",
              "        text-align: right;\n",
              "    }\n",
              "</style>\n",
              "<table border=\"1\" class=\"dataframe\">\n",
              "  <thead>\n",
              "    <tr style=\"text-align: right;\">\n",
              "      <th></th>\n",
              "      <th>a</th>\n",
              "      <th>b</th>\n",
              "      <th>a</th>\n",
              "      <th>b</th>\n",
              "    </tr>\n",
              "  </thead>\n",
              "  <tbody>\n",
              "    <tr>\n",
              "      <th>2</th>\n",
              "      <td>8.89</td>\n",
              "      <td>6.07</td>\n",
              "      <td>-0.04</td>\n",
              "      <td>-0.03</td>\n",
              "    </tr>\n",
              "  </tbody>\n",
              "</table>\n",
              "</div>\n",
              "    <div class=\"colab-df-buttons\">\n",
              "\n",
              "  <div class=\"colab-df-container\">\n",
              "    <button class=\"colab-df-convert\" onclick=\"convertToInteractive('df-28f73bcb-b94e-45dc-83a2-9a25fb6c816e')\"\n",
              "            title=\"Convert this dataframe to an interactive table.\"\n",
              "            style=\"display:none;\">\n",
              "\n",
              "  <svg xmlns=\"http://www.w3.org/2000/svg\" height=\"24px\" viewBox=\"0 -960 960 960\">\n",
              "    <path d=\"M120-120v-720h720v720H120Zm60-500h600v-160H180v160Zm220 220h160v-160H400v160Zm0 220h160v-160H400v160ZM180-400h160v-160H180v160Zm440 0h160v-160H620v160ZM180-180h160v-160H180v160Zm440 0h160v-160H620v160Z\"/>\n",
              "  </svg>\n",
              "    </button>\n",
              "\n",
              "  <style>\n",
              "    .colab-df-container {\n",
              "      display:flex;\n",
              "      gap: 12px;\n",
              "    }\n",
              "\n",
              "    .colab-df-convert {\n",
              "      background-color: #E8F0FE;\n",
              "      border: none;\n",
              "      border-radius: 50%;\n",
              "      cursor: pointer;\n",
              "      display: none;\n",
              "      fill: #1967D2;\n",
              "      height: 32px;\n",
              "      padding: 0 0 0 0;\n",
              "      width: 32px;\n",
              "    }\n",
              "\n",
              "    .colab-df-convert:hover {\n",
              "      background-color: #E2EBFA;\n",
              "      box-shadow: 0px 1px 2px rgba(60, 64, 67, 0.3), 0px 1px 3px 1px rgba(60, 64, 67, 0.15);\n",
              "      fill: #174EA6;\n",
              "    }\n",
              "\n",
              "    .colab-df-buttons div {\n",
              "      margin-bottom: 4px;\n",
              "    }\n",
              "\n",
              "    [theme=dark] .colab-df-convert {\n",
              "      background-color: #3B4455;\n",
              "      fill: #D2E3FC;\n",
              "    }\n",
              "\n",
              "    [theme=dark] .colab-df-convert:hover {\n",
              "      background-color: #434B5C;\n",
              "      box-shadow: 0px 1px 3px 1px rgba(0, 0, 0, 0.15);\n",
              "      filter: drop-shadow(0px 1px 2px rgba(0, 0, 0, 0.3));\n",
              "      fill: #FFFFFF;\n",
              "    }\n",
              "  </style>\n",
              "\n",
              "    <script>\n",
              "      const buttonEl =\n",
              "        document.querySelector('#df-28f73bcb-b94e-45dc-83a2-9a25fb6c816e button.colab-df-convert');\n",
              "      buttonEl.style.display =\n",
              "        google.colab.kernel.accessAllowed ? 'block' : 'none';\n",
              "\n",
              "      async function convertToInteractive(key) {\n",
              "        const element = document.querySelector('#df-28f73bcb-b94e-45dc-83a2-9a25fb6c816e');\n",
              "        const dataTable =\n",
              "          await google.colab.kernel.invokeFunction('convertToInteractive',\n",
              "                                                    [key], {});\n",
              "        if (!dataTable) return;\n",
              "\n",
              "        const docLinkHtml = 'Like what you see? Visit the ' +\n",
              "          '<a target=\"_blank\" href=https://colab.research.google.com/notebooks/data_table.ipynb>data table notebook</a>'\n",
              "          + ' to learn more about interactive tables.';\n",
              "        element.innerHTML = '';\n",
              "        dataTable['output_type'] = 'display_data';\n",
              "        await google.colab.output.renderOutput(dataTable, element);\n",
              "        const docLink = document.createElement('div');\n",
              "        docLink.innerHTML = docLinkHtml;\n",
              "        element.appendChild(docLink);\n",
              "      }\n",
              "    </script>\n",
              "  </div>\n",
              "\n",
              "\n",
              "    </div>\n",
              "  </div>\n"
            ],
            "application/vnd.google.colaboratory.intrinsic+json": {
              "type": "dataframe",
              "summary": "{\n  \"name\": \"pd\",\n  \"rows\": 1,\n  \"fields\": [\n    {\n      \"column\": \"a\",\n      \"properties\": {\n        \"dtype\": \"number\",\n        \"std\": null,\n        \"min\": 8.889247415694339,\n        \"max\": 8.889247415694339,\n        \"num_unique_values\": 1,\n        \"samples\": [\n          8.889247415694339\n        ],\n        \"semantic_type\": \"\",\n        \"description\": \"\"\n      }\n    },\n    {\n      \"column\": \"b\",\n      \"properties\": {\n        \"dtype\": \"number\",\n        \"std\": null,\n        \"min\": 6.06751168452996,\n        \"max\": 6.06751168452996,\n        \"num_unique_values\": 1,\n        \"samples\": [\n          6.06751168452996\n        ],\n        \"semantic_type\": \"\",\n        \"description\": \"\"\n      }\n    },\n    {\n      \"column\": \"a\",\n      \"properties\": {\n        \"dtype\": \"number\",\n        \"std\": null,\n        \"min\": -0.03545926271068556,\n        \"max\": -0.03545926271068556,\n        \"num_unique_values\": 1,\n        \"samples\": [\n          -0.03545926271068556\n        ],\n        \"semantic_type\": \"\",\n        \"description\": \"\"\n      }\n    },\n    {\n      \"column\": \"b\",\n      \"properties\": {\n        \"dtype\": \"number\",\n        \"std\": null,\n        \"min\": -0.03415738941470847,\n        \"max\": -0.03415738941470847,\n        \"num_unique_values\": 1,\n        \"samples\": [\n          -0.03415738941470847\n        ],\n        \"semantic_type\": \"\",\n        \"description\": \"\"\n      }\n    }\n  ]\n}"
            }
          },
          "metadata": {},
          "execution_count": 44
        }
      ]
    },
    {
      "cell_type": "markdown",
      "metadata": {
        "id": "0T3iwD2IGatf"
      },
      "source": [
        "Podemos resetear los indices tambien como hicimos antes:"
      ]
    },
    {
      "cell_type": "code",
      "metadata": {
        "id": "hL33cFN2GVqr",
        "outputId": "dc94e996-72d2-41d6-82d2-e38b00848b3e",
        "colab": {
          "base_uri": "https://localhost:8080/",
          "height": 143
        }
      },
      "source": [
        "pd.concat([df1.reset_index(drop=True),\n",
        "           df2.reset_index(drop=True)],\n",
        "           axis=1, join='inner')"
      ],
      "execution_count": 46,
      "outputs": [
        {
          "output_type": "execute_result",
          "data": {
            "text/plain": [
              "     a    b     a     b\n",
              "0 3.16 4.58 -0.04 -0.03\n",
              "1 9.55 9.47 -0.92 -0.34\n",
              "2 8.89 6.07 -0.74 -0.25"
            ],
            "text/html": [
              "\n",
              "  <div id=\"df-85de1f7e-ce36-4eb4-912f-1bc65882b1b2\" class=\"colab-df-container\">\n",
              "    <div>\n",
              "<style scoped>\n",
              "    .dataframe tbody tr th:only-of-type {\n",
              "        vertical-align: middle;\n",
              "    }\n",
              "\n",
              "    .dataframe tbody tr th {\n",
              "        vertical-align: top;\n",
              "    }\n",
              "\n",
              "    .dataframe thead th {\n",
              "        text-align: right;\n",
              "    }\n",
              "</style>\n",
              "<table border=\"1\" class=\"dataframe\">\n",
              "  <thead>\n",
              "    <tr style=\"text-align: right;\">\n",
              "      <th></th>\n",
              "      <th>a</th>\n",
              "      <th>b</th>\n",
              "      <th>a</th>\n",
              "      <th>b</th>\n",
              "    </tr>\n",
              "  </thead>\n",
              "  <tbody>\n",
              "    <tr>\n",
              "      <th>0</th>\n",
              "      <td>3.16</td>\n",
              "      <td>4.58</td>\n",
              "      <td>-0.04</td>\n",
              "      <td>-0.03</td>\n",
              "    </tr>\n",
              "    <tr>\n",
              "      <th>1</th>\n",
              "      <td>9.55</td>\n",
              "      <td>9.47</td>\n",
              "      <td>-0.92</td>\n",
              "      <td>-0.34</td>\n",
              "    </tr>\n",
              "    <tr>\n",
              "      <th>2</th>\n",
              "      <td>8.89</td>\n",
              "      <td>6.07</td>\n",
              "      <td>-0.74</td>\n",
              "      <td>-0.25</td>\n",
              "    </tr>\n",
              "  </tbody>\n",
              "</table>\n",
              "</div>\n",
              "    <div class=\"colab-df-buttons\">\n",
              "\n",
              "  <div class=\"colab-df-container\">\n",
              "    <button class=\"colab-df-convert\" onclick=\"convertToInteractive('df-85de1f7e-ce36-4eb4-912f-1bc65882b1b2')\"\n",
              "            title=\"Convert this dataframe to an interactive table.\"\n",
              "            style=\"display:none;\">\n",
              "\n",
              "  <svg xmlns=\"http://www.w3.org/2000/svg\" height=\"24px\" viewBox=\"0 -960 960 960\">\n",
              "    <path d=\"M120-120v-720h720v720H120Zm60-500h600v-160H180v160Zm220 220h160v-160H400v160Zm0 220h160v-160H400v160ZM180-400h160v-160H180v160Zm440 0h160v-160H620v160ZM180-180h160v-160H180v160Zm440 0h160v-160H620v160Z\"/>\n",
              "  </svg>\n",
              "    </button>\n",
              "\n",
              "  <style>\n",
              "    .colab-df-container {\n",
              "      display:flex;\n",
              "      gap: 12px;\n",
              "    }\n",
              "\n",
              "    .colab-df-convert {\n",
              "      background-color: #E8F0FE;\n",
              "      border: none;\n",
              "      border-radius: 50%;\n",
              "      cursor: pointer;\n",
              "      display: none;\n",
              "      fill: #1967D2;\n",
              "      height: 32px;\n",
              "      padding: 0 0 0 0;\n",
              "      width: 32px;\n",
              "    }\n",
              "\n",
              "    .colab-df-convert:hover {\n",
              "      background-color: #E2EBFA;\n",
              "      box-shadow: 0px 1px 2px rgba(60, 64, 67, 0.3), 0px 1px 3px 1px rgba(60, 64, 67, 0.15);\n",
              "      fill: #174EA6;\n",
              "    }\n",
              "\n",
              "    .colab-df-buttons div {\n",
              "      margin-bottom: 4px;\n",
              "    }\n",
              "\n",
              "    [theme=dark] .colab-df-convert {\n",
              "      background-color: #3B4455;\n",
              "      fill: #D2E3FC;\n",
              "    }\n",
              "\n",
              "    [theme=dark] .colab-df-convert:hover {\n",
              "      background-color: #434B5C;\n",
              "      box-shadow: 0px 1px 3px 1px rgba(0, 0, 0, 0.15);\n",
              "      filter: drop-shadow(0px 1px 2px rgba(0, 0, 0, 0.3));\n",
              "      fill: #FFFFFF;\n",
              "    }\n",
              "  </style>\n",
              "\n",
              "    <script>\n",
              "      const buttonEl =\n",
              "        document.querySelector('#df-85de1f7e-ce36-4eb4-912f-1bc65882b1b2 button.colab-df-convert');\n",
              "      buttonEl.style.display =\n",
              "        google.colab.kernel.accessAllowed ? 'block' : 'none';\n",
              "\n",
              "      async function convertToInteractive(key) {\n",
              "        const element = document.querySelector('#df-85de1f7e-ce36-4eb4-912f-1bc65882b1b2');\n",
              "        const dataTable =\n",
              "          await google.colab.kernel.invokeFunction('convertToInteractive',\n",
              "                                                    [key], {});\n",
              "        if (!dataTable) return;\n",
              "\n",
              "        const docLinkHtml = 'Like what you see? Visit the ' +\n",
              "          '<a target=\"_blank\" href=https://colab.research.google.com/notebooks/data_table.ipynb>data table notebook</a>'\n",
              "          + ' to learn more about interactive tables.';\n",
              "        element.innerHTML = '';\n",
              "        dataTable['output_type'] = 'display_data';\n",
              "        await google.colab.output.renderOutput(dataTable, element);\n",
              "        const docLink = document.createElement('div');\n",
              "        docLink.innerHTML = docLinkHtml;\n",
              "        element.appendChild(docLink);\n",
              "      }\n",
              "    </script>\n",
              "  </div>\n",
              "\n",
              "\n",
              "<div id=\"df-80a8d24a-9a0b-4d18-ad57-d272c2826b83\">\n",
              "  <button class=\"colab-df-quickchart\" onclick=\"quickchart('df-80a8d24a-9a0b-4d18-ad57-d272c2826b83')\"\n",
              "            title=\"Suggest charts\"\n",
              "            style=\"display:none;\">\n",
              "\n",
              "<svg xmlns=\"http://www.w3.org/2000/svg\" height=\"24px\"viewBox=\"0 0 24 24\"\n",
              "     width=\"24px\">\n",
              "    <g>\n",
              "        <path d=\"M19 3H5c-1.1 0-2 .9-2 2v14c0 1.1.9 2 2 2h14c1.1 0 2-.9 2-2V5c0-1.1-.9-2-2-2zM9 17H7v-7h2v7zm4 0h-2V7h2v10zm4 0h-2v-4h2v4z\"/>\n",
              "    </g>\n",
              "</svg>\n",
              "  </button>\n",
              "\n",
              "<style>\n",
              "  .colab-df-quickchart {\n",
              "      --bg-color: #E8F0FE;\n",
              "      --fill-color: #1967D2;\n",
              "      --hover-bg-color: #E2EBFA;\n",
              "      --hover-fill-color: #174EA6;\n",
              "      --disabled-fill-color: #AAA;\n",
              "      --disabled-bg-color: #DDD;\n",
              "  }\n",
              "\n",
              "  [theme=dark] .colab-df-quickchart {\n",
              "      --bg-color: #3B4455;\n",
              "      --fill-color: #D2E3FC;\n",
              "      --hover-bg-color: #434B5C;\n",
              "      --hover-fill-color: #FFFFFF;\n",
              "      --disabled-bg-color: #3B4455;\n",
              "      --disabled-fill-color: #666;\n",
              "  }\n",
              "\n",
              "  .colab-df-quickchart {\n",
              "    background-color: var(--bg-color);\n",
              "    border: none;\n",
              "    border-radius: 50%;\n",
              "    cursor: pointer;\n",
              "    display: none;\n",
              "    fill: var(--fill-color);\n",
              "    height: 32px;\n",
              "    padding: 0;\n",
              "    width: 32px;\n",
              "  }\n",
              "\n",
              "  .colab-df-quickchart:hover {\n",
              "    background-color: var(--hover-bg-color);\n",
              "    box-shadow: 0 1px 2px rgba(60, 64, 67, 0.3), 0 1px 3px 1px rgba(60, 64, 67, 0.15);\n",
              "    fill: var(--button-hover-fill-color);\n",
              "  }\n",
              "\n",
              "  .colab-df-quickchart-complete:disabled,\n",
              "  .colab-df-quickchart-complete:disabled:hover {\n",
              "    background-color: var(--disabled-bg-color);\n",
              "    fill: var(--disabled-fill-color);\n",
              "    box-shadow: none;\n",
              "  }\n",
              "\n",
              "  .colab-df-spinner {\n",
              "    border: 2px solid var(--fill-color);\n",
              "    border-color: transparent;\n",
              "    border-bottom-color: var(--fill-color);\n",
              "    animation:\n",
              "      spin 1s steps(1) infinite;\n",
              "  }\n",
              "\n",
              "  @keyframes spin {\n",
              "    0% {\n",
              "      border-color: transparent;\n",
              "      border-bottom-color: var(--fill-color);\n",
              "      border-left-color: var(--fill-color);\n",
              "    }\n",
              "    20% {\n",
              "      border-color: transparent;\n",
              "      border-left-color: var(--fill-color);\n",
              "      border-top-color: var(--fill-color);\n",
              "    }\n",
              "    30% {\n",
              "      border-color: transparent;\n",
              "      border-left-color: var(--fill-color);\n",
              "      border-top-color: var(--fill-color);\n",
              "      border-right-color: var(--fill-color);\n",
              "    }\n",
              "    40% {\n",
              "      border-color: transparent;\n",
              "      border-right-color: var(--fill-color);\n",
              "      border-top-color: var(--fill-color);\n",
              "    }\n",
              "    60% {\n",
              "      border-color: transparent;\n",
              "      border-right-color: var(--fill-color);\n",
              "    }\n",
              "    80% {\n",
              "      border-color: transparent;\n",
              "      border-right-color: var(--fill-color);\n",
              "      border-bottom-color: var(--fill-color);\n",
              "    }\n",
              "    90% {\n",
              "      border-color: transparent;\n",
              "      border-bottom-color: var(--fill-color);\n",
              "    }\n",
              "  }\n",
              "</style>\n",
              "\n",
              "  <script>\n",
              "    async function quickchart(key) {\n",
              "      const quickchartButtonEl =\n",
              "        document.querySelector('#' + key + ' button');\n",
              "      quickchartButtonEl.disabled = true;  // To prevent multiple clicks.\n",
              "      quickchartButtonEl.classList.add('colab-df-spinner');\n",
              "      try {\n",
              "        const charts = await google.colab.kernel.invokeFunction(\n",
              "            'suggestCharts', [key], {});\n",
              "      } catch (error) {\n",
              "        console.error('Error during call to suggestCharts:', error);\n",
              "      }\n",
              "      quickchartButtonEl.classList.remove('colab-df-spinner');\n",
              "      quickchartButtonEl.classList.add('colab-df-quickchart-complete');\n",
              "    }\n",
              "    (() => {\n",
              "      let quickchartButtonEl =\n",
              "        document.querySelector('#df-80a8d24a-9a0b-4d18-ad57-d272c2826b83 button');\n",
              "      quickchartButtonEl.style.display =\n",
              "        google.colab.kernel.accessAllowed ? 'block' : 'none';\n",
              "    })();\n",
              "  </script>\n",
              "</div>\n",
              "\n",
              "    </div>\n",
              "  </div>\n"
            ],
            "application/vnd.google.colaboratory.intrinsic+json": {
              "type": "dataframe",
              "summary": "{\n  \"name\": \"           axis=1, join='inner')\",\n  \"rows\": 3,\n  \"fields\": [\n    {\n      \"column\": \"a\",\n      \"properties\": {\n        \"dtype\": \"number\",\n        \"std\": 3.5161699120916334,\n        \"min\": 3.1590619552157317,\n        \"max\": 9.554605576415726,\n        \"num_unique_values\": 3,\n        \"samples\": [\n          3.1590619552157317,\n          9.554605576415726,\n          8.889247415694339\n        ],\n        \"semantic_type\": \"\",\n        \"description\": \"\"\n      }\n    },\n    {\n      \"column\": \"b\",\n      \"properties\": {\n        \"dtype\": \"number\",\n        \"std\": 2.506007599623945,\n        \"min\": 4.581601401156734,\n        \"max\": 9.469948591907364,\n        \"num_unique_values\": 3,\n        \"samples\": [\n          4.581601401156734,\n          9.469948591907364,\n          6.06751168452996\n        ],\n        \"semantic_type\": \"\",\n        \"description\": \"\"\n      }\n    },\n    {\n      \"column\": \"a\",\n      \"properties\": {\n        \"dtype\": \"number\",\n        \"std\": 0.46698822579422,\n        \"min\": -0.9162940721880187,\n        \"max\": -0.03545926271068556,\n        \"num_unique_values\": 3,\n        \"samples\": [\n          -0.03545926271068556,\n          -0.9162940721880187,\n          -0.7448218996083791\n        ],\n        \"semantic_type\": \"\",\n        \"description\": \"\"\n      }\n    },\n    {\n      \"column\": \"b\",\n      \"properties\": {\n        \"dtype\": \"number\",\n        \"std\": 0.15880458500136907,\n        \"min\": -0.3435851704475872,\n        \"max\": -0.03415738941470847,\n        \"num_unique_values\": 3,\n        \"samples\": [\n          -0.03415738941470847,\n          -0.3435851704475872,\n          -0.2508996999994747\n        ],\n        \"semantic_type\": \"\",\n        \"description\": \"\"\n      }\n    }\n  ]\n}"
            }
          },
          "metadata": {},
          "execution_count": 46
        }
      ]
    },
    {
      "cell_type": "markdown",
      "metadata": {
        "id": "KocDBRfJGti5"
      },
      "source": [
        "Hay una forma mas simple de unir dos dataframe con una función llamada **concat**"
      ]
    },
    {
      "cell_type": "code",
      "metadata": {
        "id": "cqmrbkZZGpd5",
        "outputId": "6e6ce62a-89e9-4489-f759-62b72d9ab215",
        "colab": {
          "base_uri": "https://localhost:8080/"
        }
      },
      "source": [
        "result = pd.concat([df1, df2], ignore_index=True)\n",
        "print(result)\n"
      ],
      "execution_count": 54,
      "outputs": [
        {
          "output_type": "stream",
          "name": "stdout",
          "text": [
            "      a     b\n",
            "0  3.16  4.58\n",
            "1  9.55  9.47\n",
            "2  8.89  6.07\n",
            "3 -0.04 -0.03\n",
            "4 -0.92 -0.34\n",
            "5 -0.74 -0.25\n"
          ]
        }
      ]
    },
    {
      "cell_type": "code",
      "metadata": {
        "id": "9XUpuu4aHBxB",
        "outputId": "b10b1d89-c0c1-40b1-82f8-c669dfa1dacd",
        "colab": {
          "base_uri": "https://localhost:8080/"
        }
      },
      "source": [
        "result = pd.concat([df1, df2, df2], ignore_index=True)\n",
        "print(result)"
      ],
      "execution_count": 55,
      "outputs": [
        {
          "output_type": "stream",
          "name": "stdout",
          "text": [
            "      a     b\n",
            "0  3.16  4.58\n",
            "1  9.55  9.47\n",
            "2  8.89  6.07\n",
            "3 -0.04 -0.03\n",
            "4 -0.92 -0.34\n",
            "5 -0.74 -0.25\n",
            "6 -0.04 -0.03\n",
            "7 -0.92 -0.34\n",
            "8 -0.74 -0.25\n"
          ]
        }
      ]
    },
    {
      "cell_type": "markdown",
      "metadata": {
        "id": "gVjQpmmGHIII"
      },
      "source": [
        "Ahora si queremos hacer un append a los largo de las columnas debemos hacer la transpueta de nuestro dataframe."
      ]
    },
    {
      "cell_type": "code",
      "metadata": {
        "id": "_q6bYVPyHFsp"
      },
      "source": [
        "print(df1)"
      ],
      "execution_count": null,
      "outputs": []
    },
    {
      "cell_type": "code",
      "metadata": {
        "id": "ocxYfWFpHTr7"
      },
      "source": [
        "\"\"\"La propiedad .T de un DataFrame en pandas devuelve la transposición del DataFrame.\n",
        "En otras palabras, convierte las filas en columnas y las columnas en filas.\"\"\"\n",
        "print(df1.T)"
      ],
      "execution_count": null,
      "outputs": []
    },
    {
      "cell_type": "code",
      "metadata": {
        "id": "Ccf-4Jt4HVGh"
      },
      "source": [
        "# Transponer, concatenar y luego transponer de vuelta\n",
        "result = pd.concat([df1.T, df2.T], axis=1).T\n",
        "print(result)"
      ],
      "execution_count": null,
      "outputs": []
    },
    {
      "cell_type": "code",
      "metadata": {
        "id": "gyT2fpWeHdCL",
        "outputId": "9d8e8523-08ef-485e-bbe0-69b735cb7186",
        "colab": {
          "base_uri": "https://localhost:8080/"
        }
      },
      "source": [
        "# Transponer, concatenar a lo largo de las filas y luego transponer de vuelta\n",
        "result = pd.concat([df1.T, df2.T], axis=0).T\n",
        "print(result)"
      ],
      "execution_count": 58,
      "outputs": [
        {
          "output_type": "stream",
          "name": "stdout",
          "text": [
            "     a    b     a     b\n",
            "0 3.16 4.58   NaN   NaN\n",
            "1 9.55 9.47   NaN   NaN\n",
            "2 8.89 6.07 -0.04 -0.03\n",
            "3  NaN  NaN -0.92 -0.34\n",
            "4  NaN  NaN -0.74 -0.25\n"
          ]
        }
      ]
    }
  ]
}